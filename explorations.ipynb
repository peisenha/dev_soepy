{
 "cells": [
  {
   "cell_type": "code",
   "execution_count": 1,
   "metadata": {},
   "outputs": [],
   "source": [
    "%load_ext autoreload\n",
    "%autoreload 2\n",
    "\n",
    "import sys\n",
    "import os \n",
    "import pandas as pd\n",
    "import numpy as np\n",
    "\n",
    "import soepy\n",
    "\n",
    "from dev_library import plot_basics_choices\n",
    "from dev_library import plot_basics_wages\n",
    "from dev_library import *\n",
    "import pandas as pd\n",
    "pd.set_option('display.max_rows', 500)\n",
    "sys.path.insert(0, \"/home/peisenha/structExpectations/development/estimations/estimation-current\")\n",
    "os.chdir(\"/home/peisenha/structExpectations/development/estimations/estimation-current\")\n",
    "import yaml"
   ]
  },
  {
   "cell_type": "code",
   "execution_count": 20,
   "metadata": {},
   "outputs": [
    {
     "name": "stdout",
     "output_type": "stream",
     "text": [
      "-0.8045640000000001\n"
     ]
    },
    {
     "data": {
      "text/plain": [
       "{'full': 2.821478391830799, 'part': 0.44728289939632615, 'home': 1.0}"
      ]
     },
     "execution_count": 20,
     "metadata": {},
     "output_type": "execute_result"
    }
   ],
   "source": [
    "model_params_start = pd.read_pickle(\"start.soepy.pkl\")\n",
    "\n",
    "\n",
    "def calculate_disutility(model_params_start, level, age):\n",
    "    \n",
    "    disutil = model_params_start.loc[\"disutil_work\"]\n",
    "\n",
    "    u_home = 1\n",
    "    \n",
    "    u_part = 0\n",
    "    u_full = 0\n",
    "    \n",
    "    if age != -1:\n",
    "        u_full += disutil.loc[f\"yes_kids_f_educ_{level}\", \"value\"]\n",
    "        u_part += disutil.loc[f\"yes_kids_p_educ_{level}\", \"value\"]\n",
    "    else:\n",
    "        u_full += disutil.loc[f\"no_kids_f_educ_{level}\", \"value\"]\n",
    "        u_part += disutil.loc[f\"no_kids_p_educ_{level}\", \"value\"]\n",
    "    \n",
    "    if age in [0, 1, 2]:\n",
    "        u_full += disutil.loc[f\"child_02_f\", \"value\"]\n",
    "        u_part += disutil.loc[f\"child_02_p\", \"value\"]\n",
    "    elif age in [3, 4, 5]:\n",
    "        u_full += disutil.loc[f\"child_35_f\", \"value\"]\n",
    "        u_part += disutil.loc[f\"child_35_p\", \"value\"]\n",
    "    elif age > 5:\n",
    "        u_full += disutil.loc[f\"child_6orolder_f\", \"value\"]\n",
    "        u_part += disutil.loc[f\"child_6orolder_p\", \"value\"]\n",
    "    else:\n",
    "        pass\n",
    "    \n",
    "    \n",
    "    print(u_part)\n",
    "    \n",
    "    return {\"full\": np.exp(u_full), \"part\": np.exp(u_part), \"home\": np.exp(0)}\n",
    "\n",
    "calculate_disutility(model_params_start, \"high\", 10)"
   ]
  },
  {
   "cell_type": "code",
   "execution_count": null,
   "metadata": {},
   "outputs": [],
   "source": []
  }
 ],
 "metadata": {
  "kernelspec": {
   "display_name": "Python 3",
   "language": "python",
   "name": "python3"
  },
  "language_info": {
   "codemirror_mode": {
    "name": "ipython",
    "version": 3
   },
   "file_extension": ".py",
   "mimetype": "text/x-python",
   "name": "python",
   "nbconvert_exporter": "python",
   "pygments_lexer": "ipython3",
   "version": "3.8.10"
  }
 },
 "nbformat": 4,
 "nbformat_minor": 4
}
